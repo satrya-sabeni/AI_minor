{
 "cells": [
  {
   "cell_type": "code",
   "execution_count": 419,
   "metadata": {},
   "outputs": [],
   "source": [
    "import numpy as np\n",
    "import pandas as pd\n",
    "import math\n",
    "import random\n",
    "\n",
    "random.seed(47)"
   ]
  },
  {
   "cell_type": "code",
   "execution_count": 420,
   "metadata": {},
   "outputs": [],
   "source": [
    "# load data\n",
    "combats = pd.read_csv('./Python/Data/combats.csv')\n",
    "pokemons = pd.read_csv('./Python/Data/pokemon.csv')\n",
    "tests = pd.read_csv('./Python/Data/tests.csv')"
   ]
  },
  {
   "cell_type": "code",
   "execution_count": 421,
   "metadata": {},
   "outputs": [
    {
     "data": {
      "text/html": [
       "<div>\n",
       "<style scoped>\n",
       "    .dataframe tbody tr th:only-of-type {\n",
       "        vertical-align: middle;\n",
       "    }\n",
       "\n",
       "    .dataframe tbody tr th {\n",
       "        vertical-align: top;\n",
       "    }\n",
       "\n",
       "    .dataframe thead th {\n",
       "        text-align: right;\n",
       "    }\n",
       "</style>\n",
       "<table border=\"1\" class=\"dataframe\">\n",
       "  <thead>\n",
       "    <tr style=\"text-align: right;\">\n",
       "      <th></th>\n",
       "      <th>#</th>\n",
       "      <th>Name</th>\n",
       "      <th>Type 1</th>\n",
       "      <th>Type 2</th>\n",
       "      <th>HP</th>\n",
       "      <th>Attack</th>\n",
       "      <th>Defense</th>\n",
       "      <th>Sp. Atk</th>\n",
       "      <th>Sp. Def</th>\n",
       "      <th>Speed</th>\n",
       "      <th>Generation</th>\n",
       "      <th>Legendary</th>\n",
       "    </tr>\n",
       "  </thead>\n",
       "  <tbody>\n",
       "    <tr>\n",
       "      <th>0</th>\n",
       "      <td>1</td>\n",
       "      <td>Bulbasaur</td>\n",
       "      <td>Grass</td>\n",
       "      <td>Poison</td>\n",
       "      <td>45</td>\n",
       "      <td>49</td>\n",
       "      <td>49</td>\n",
       "      <td>65</td>\n",
       "      <td>65</td>\n",
       "      <td>45</td>\n",
       "      <td>1</td>\n",
       "      <td>False</td>\n",
       "    </tr>\n",
       "    <tr>\n",
       "      <th>1</th>\n",
       "      <td>2</td>\n",
       "      <td>Ivysaur</td>\n",
       "      <td>Grass</td>\n",
       "      <td>Poison</td>\n",
       "      <td>60</td>\n",
       "      <td>62</td>\n",
       "      <td>63</td>\n",
       "      <td>80</td>\n",
       "      <td>80</td>\n",
       "      <td>60</td>\n",
       "      <td>1</td>\n",
       "      <td>False</td>\n",
       "    </tr>\n",
       "    <tr>\n",
       "      <th>2</th>\n",
       "      <td>3</td>\n",
       "      <td>Venusaur</td>\n",
       "      <td>Grass</td>\n",
       "      <td>Poison</td>\n",
       "      <td>80</td>\n",
       "      <td>82</td>\n",
       "      <td>83</td>\n",
       "      <td>100</td>\n",
       "      <td>100</td>\n",
       "      <td>80</td>\n",
       "      <td>1</td>\n",
       "      <td>False</td>\n",
       "    </tr>\n",
       "    <tr>\n",
       "      <th>3</th>\n",
       "      <td>4</td>\n",
       "      <td>Mega Venusaur</td>\n",
       "      <td>Grass</td>\n",
       "      <td>Poison</td>\n",
       "      <td>80</td>\n",
       "      <td>100</td>\n",
       "      <td>123</td>\n",
       "      <td>122</td>\n",
       "      <td>120</td>\n",
       "      <td>80</td>\n",
       "      <td>1</td>\n",
       "      <td>False</td>\n",
       "    </tr>\n",
       "    <tr>\n",
       "      <th>4</th>\n",
       "      <td>5</td>\n",
       "      <td>Charmander</td>\n",
       "      <td>Fire</td>\n",
       "      <td>NaN</td>\n",
       "      <td>39</td>\n",
       "      <td>52</td>\n",
       "      <td>43</td>\n",
       "      <td>60</td>\n",
       "      <td>50</td>\n",
       "      <td>65</td>\n",
       "      <td>1</td>\n",
       "      <td>False</td>\n",
       "    </tr>\n",
       "  </tbody>\n",
       "</table>\n",
       "</div>"
      ],
      "text/plain": [
       "   #           Name Type 1  Type 2  HP  Attack  Defense  Sp. Atk  Sp. Def  \\\n",
       "0  1      Bulbasaur  Grass  Poison  45      49       49       65       65   \n",
       "1  2        Ivysaur  Grass  Poison  60      62       63       80       80   \n",
       "2  3       Venusaur  Grass  Poison  80      82       83      100      100   \n",
       "3  4  Mega Venusaur  Grass  Poison  80     100      123      122      120   \n",
       "4  5     Charmander   Fire     NaN  39      52       43       60       50   \n",
       "\n",
       "   Speed  Generation  Legendary  \n",
       "0     45           1      False  \n",
       "1     60           1      False  \n",
       "2     80           1      False  \n",
       "3     80           1      False  \n",
       "4     65           1      False  "
      ]
     },
     "execution_count": 421,
     "metadata": {},
     "output_type": "execute_result"
    }
   ],
   "source": [
    "pokemons.head()"
   ]
  },
  {
   "cell_type": "code",
   "execution_count": 422,
   "metadata": {},
   "outputs": [
    {
     "name": "stdout",
     "output_type": "stream",
     "text": [
      "attack range: 1 - 255\n",
      "attack range: 5 - 190\n",
      "attack range: 5 - 230\n"
     ]
    }
   ],
   "source": [
    "print(\"attack range: %i - %i\" % (pokemons.HP.min(), pokemons.HP.max()))\n",
    "print(\"attack range: %i - %i\" % (pokemons.Attack.min(), pokemons.Attack.max()))\n",
    "print(\"attack range: %i - %i\" % (pokemons.Defense.min(), pokemons.Defense.max()))"
   ]
  },
  {
   "cell_type": "code",
   "execution_count": 423,
   "metadata": {},
   "outputs": [],
   "source": [
    "# put range in vars\n",
    "Hp = [pokemons.HP.min(), pokemons.HP.max()]\n",
    "Atk = [pokemons.Attack.min(), pokemons.Attack.max()]\n",
    "Def = [pokemons.Defense.min(), pokemons.Defense.max()]"
   ]
  },
  {
   "cell_type": "code",
   "execution_count": 424,
   "metadata": {},
   "outputs": [
    {
     "data": {
      "text/plain": [
       "array(['Grass', 'Fire', 'Water', 'Bug', 'Normal', 'Poison', 'Electric',\n",
       "       'Ground', 'Fairy', 'Fighting', 'Psychic', 'Rock', 'Ghost', 'Ice',\n",
       "       'Dragon', 'Dark', 'Steel', 'Flying'], dtype=object)"
      ]
     },
     "execution_count": 424,
     "metadata": {},
     "output_type": "execute_result"
    }
   ],
   "source": [
    "pokemons['Type 1'].unique()"
   ]
  },
  {
   "cell_type": "code",
   "execution_count": 425,
   "metadata": {},
   "outputs": [
    {
     "data": {
      "text/plain": [
       "19"
      ]
     },
     "execution_count": 425,
     "metadata": {},
     "output_type": "execute_result"
    }
   ],
   "source": [
    "pokemons['Type 2'].unique().size"
   ]
  },
  {
   "cell_type": "code",
   "execution_count": 426,
   "metadata": {},
   "outputs": [],
   "source": [
    "testdata = pokemons.loc[1:10,['HP','Attack','Defense','Name']]"
   ]
  },
  {
   "cell_type": "code",
   "execution_count": 427,
   "metadata": {},
   "outputs": [
    {
     "data": {
      "text/plain": [
       "array([[60, 62, 63, 'Ivysaur'],\n",
       "       [80, 82, 83, 'Venusaur'],\n",
       "       [80, 100, 123, 'Mega Venusaur'],\n",
       "       [39, 52, 43, 'Charmander'],\n",
       "       [58, 64, 58, 'Charmeleon'],\n",
       "       [78, 84, 78, 'Charizard'],\n",
       "       [78, 130, 111, 'Mega Charizard X'],\n",
       "       [78, 104, 78, 'Mega Charizard Y'],\n",
       "       [44, 48, 65, 'Squirtle'],\n",
       "       [59, 63, 80, 'Wartortle']], dtype=object)"
      ]
     },
     "execution_count": 427,
     "metadata": {},
     "output_type": "execute_result"
    }
   ],
   "source": [
    "testdata.values"
   ]
  },
  {
   "cell_type": "markdown",
   "metadata": {},
   "source": [
    "### Steps to take\n",
    "1) Set amount of K clusters  \n",
    "2) Assign each data point to closest centroid  \n",
    "3) Recompute the cluster centroids(mean of all data points in cluster)  \n",
    "4) back to step 2 and repeat"
   ]
  },
  {
   "cell_type": "code",
   "execution_count": 522,
   "metadata": {},
   "outputs": [],
   "source": [
    "def KMeans(points, k = 3, max_iter = 10):\n",
    "    # generate k random centroids\n",
    "    #centroids = centroid_gen(k)\n",
    "    centroids = {0: [113, 162, 213], 1: [190,  100,  80], 2 : [190,  80,  80]}\n",
    "    centroids = dict(centroids)\n",
    "\n",
    "    print(centroids)\n",
    "    cluster = {}\n",
    "    \n",
    "    iteration = 0\n",
    "    while iteration < max_iter:\n",
    "        print('\\nIteration: ' + str(iteration))\n",
    "        for i in range(0,len(points)):\n",
    "            distances = calc_dist(centroids, points[i])\n",
    "            min_dist_key = min(distances, key=distances.get)\n",
    "            cluster[i] = {'centroid': min_dist_key, 'distance': distances[min_dist_key] }\n",
    "            print('Cluster: %s , distance: %s' % (cluster[i]['centroid'], cluster[i]['distance']))\n",
    "        iteration += 1\n",
    "        \n",
    "        # Find new centroid mean\n",
    "        new_centroids = {}\n",
    "        for i in range(k):\n",
    "            print('Cluster is:' + str(i))\n",
    "            C = np.array([])\n",
    "            for j in range(len(points)):\n",
    "                if i == cluster[j]['centroid']:\n",
    "                    np.append(C, points[j][0:2], axis=0)\n",
    "                    #C.r_[j,points[j][0:2]]\n",
    "                    print(points[j])\n",
    "            print(C)\n",
    "            print('------------------- \\n')\n",
    "    return cluster"
   ]
  },
  {
   "cell_type": "code",
   "execution_count": 429,
   "metadata": {},
   "outputs": [],
   "source": [
    "# generate k random centroids\n",
    "def centroid_gen(k):\n",
    "    centroids = {}\n",
    "    for c in range(0,k):\n",
    "        rand_hp = random.randint(Hp[0],Hp[1])\n",
    "        rand_atk = random.randint(Atk[0],Atk[1])\n",
    "        rand_def = random.randint(Def[0],Def[1])\n",
    "        centroids[c] = np.array([rand_hp, rand_atk, rand_def])\n",
    "    return centroids"
   ]
  },
  {
   "cell_type": "code",
   "execution_count": 430,
   "metadata": {},
   "outputs": [],
   "source": [
    "# calculate Euclidean distance\n",
    "def calc_dist(cen, p):\n",
    "    distances = {}\n",
    "    for k in cen:\n",
    "        Sum = (cen[k][0]-p[0])**2 + (cen[k][1]-p[1])**2 + (cen[k][2]-p[2])**2\n",
    "        distance = math.sqrt(Sum)\n",
    "        distances[k] = distance\n",
    "    return distances"
   ]
  },
  {
   "cell_type": "code",
   "execution_count": 523,
   "metadata": {
    "scrolled": false
   },
   "outputs": [
    {
     "name": "stdout",
     "output_type": "stream",
     "text": [
      "{0: [113, 162, 213], 1: [190, 100, 80], 2: [190, 80, 80]}\n",
      "\n",
      "Iteration: 0\n",
      "Cluster: 2 , distance: 132.33669181296622\n",
      "Cluster: 2 , distance: 110.05907504608605\n",
      "Cluster: 0 , distance: 114.16216536138407\n",
      "Cluster: 2 , distance: 157.96835126062436\n",
      "Cluster: 2 , distance: 134.77388471065157\n",
      "Cluster: 2 , distance: 112.08925015361643\n",
      "Cluster: 0 , distance: 112.48555462813881\n",
      "Cluster: 1 , distance: 112.08925015361643\n",
      "Cluster: 2 , distance: 150.2165104108067\n",
      "Cluster: 2 , distance: 132.09844813622905\n",
      "Cluster is:0\n",
      "[]\n",
      "[]\n",
      "[80 100 123 'Mega Venusaur']\n",
      "[]\n",
      "[]\n",
      "[]\n",
      "[]\n",
      "[78 130 111 'Mega Charizard X']\n",
      "[]\n",
      "[]\n",
      "[]\n",
      "[]\n",
      "------------------- \n",
      "\n",
      "Cluster is:1\n",
      "[]\n",
      "[]\n",
      "[]\n",
      "[]\n",
      "[]\n",
      "[]\n",
      "[]\n",
      "[78 104 78 'Mega Charizard Y']\n",
      "[]\n",
      "[]\n",
      "[]\n",
      "------------------- \n",
      "\n",
      "Cluster is:2\n",
      "[60 62 63 'Ivysaur']\n",
      "[]\n",
      "[80 82 83 'Venusaur']\n",
      "[]\n",
      "[]\n",
      "[39 52 43 'Charmander']\n",
      "[]\n",
      "[58 64 58 'Charmeleon']\n",
      "[]\n",
      "[78 84 78 'Charizard']\n",
      "[]\n",
      "[]\n",
      "[]\n",
      "[44 48 65 'Squirtle']\n",
      "[]\n",
      "[59 63 80 'Wartortle']\n",
      "[]\n",
      "------------------- \n",
      "\n",
      "\n",
      "Iteration: 1\n",
      "Cluster: 2 , distance: 132.33669181296622\n",
      "Cluster: 2 , distance: 110.05907504608605\n",
      "Cluster: 0 , distance: 114.16216536138407\n",
      "Cluster: 2 , distance: 157.96835126062436\n",
      "Cluster: 2 , distance: 134.77388471065157\n",
      "Cluster: 2 , distance: 112.08925015361643\n",
      "Cluster: 0 , distance: 112.48555462813881\n",
      "Cluster: 1 , distance: 112.08925015361643\n",
      "Cluster: 2 , distance: 150.2165104108067\n",
      "Cluster: 2 , distance: 132.09844813622905\n",
      "Cluster is:0\n",
      "[]\n",
      "[]\n",
      "[80 100 123 'Mega Venusaur']\n",
      "[]\n",
      "[]\n",
      "[]\n",
      "[]\n",
      "[78 130 111 'Mega Charizard X']\n",
      "[]\n",
      "[]\n",
      "[]\n",
      "[]\n",
      "------------------- \n",
      "\n",
      "Cluster is:1\n",
      "[]\n",
      "[]\n",
      "[]\n",
      "[]\n",
      "[]\n",
      "[]\n",
      "[]\n",
      "[78 104 78 'Mega Charizard Y']\n",
      "[]\n",
      "[]\n",
      "[]\n",
      "------------------- \n",
      "\n",
      "Cluster is:2\n",
      "[60 62 63 'Ivysaur']\n",
      "[]\n",
      "[80 82 83 'Venusaur']\n",
      "[]\n",
      "[]\n",
      "[39 52 43 'Charmander']\n",
      "[]\n",
      "[58 64 58 'Charmeleon']\n",
      "[]\n",
      "[78 84 78 'Charizard']\n",
      "[]\n",
      "[]\n",
      "[]\n",
      "[44 48 65 'Squirtle']\n",
      "[]\n",
      "[59 63 80 'Wartortle']\n",
      "[]\n",
      "------------------- \n",
      "\n",
      "\n",
      "Iteration: 2\n",
      "Cluster: 2 , distance: 132.33669181296622\n",
      "Cluster: 2 , distance: 110.05907504608605\n",
      "Cluster: 0 , distance: 114.16216536138407\n",
      "Cluster: 2 , distance: 157.96835126062436\n",
      "Cluster: 2 , distance: 134.77388471065157\n",
      "Cluster: 2 , distance: 112.08925015361643\n",
      "Cluster: 0 , distance: 112.48555462813881\n",
      "Cluster: 1 , distance: 112.08925015361643\n",
      "Cluster: 2 , distance: 150.2165104108067\n",
      "Cluster: 2 , distance: 132.09844813622905\n",
      "Cluster is:0\n",
      "[]\n",
      "[]\n",
      "[80 100 123 'Mega Venusaur']\n",
      "[]\n",
      "[]\n",
      "[]\n",
      "[]\n",
      "[78 130 111 'Mega Charizard X']\n",
      "[]\n",
      "[]\n",
      "[]\n",
      "[]\n",
      "------------------- \n",
      "\n",
      "Cluster is:1\n",
      "[]\n",
      "[]\n",
      "[]\n",
      "[]\n",
      "[]\n",
      "[]\n",
      "[]\n",
      "[78 104 78 'Mega Charizard Y']\n",
      "[]\n",
      "[]\n",
      "[]\n",
      "------------------- \n",
      "\n",
      "Cluster is:2\n",
      "[60 62 63 'Ivysaur']\n",
      "[]\n",
      "[80 82 83 'Venusaur']\n",
      "[]\n",
      "[]\n",
      "[39 52 43 'Charmander']\n",
      "[]\n",
      "[58 64 58 'Charmeleon']\n",
      "[]\n",
      "[78 84 78 'Charizard']\n",
      "[]\n",
      "[]\n",
      "[]\n",
      "[44 48 65 'Squirtle']\n",
      "[]\n",
      "[59 63 80 'Wartortle']\n",
      "[]\n",
      "------------------- \n",
      "\n"
     ]
    }
   ],
   "source": [
    "mest = KMeans(testdata.values ,3 , 3)"
   ]
  },
  {
   "cell_type": "code",
   "execution_count": 432,
   "metadata": {},
   "outputs": [
    {
     "data": {
      "text/plain": [
       "{0: {'centroid': 1, 'distance': 162.09256614663116},\n",
       " 1: {'centroid': 1, 'distance': 141.54151334502538},\n",
       " 2: {'centroid': 0, 'distance': 114.16216536138407},\n",
       " 3: {'centroid': 1, 'distance': 186.59314028120113},\n",
       " 4: {'centroid': 1, 'distance': 164.58736281987143},\n",
       " 5: {'centroid': 1, 'distance': 143.6975991448709},\n",
       " 6: {'centroid': 0, 'distance': 112.48555462813881},\n",
       " 7: {'centroid': 1, 'distance': 147.0},\n",
       " 8: {'centroid': 1, 'distance': 178.99161991557034},\n",
       " 9: {'centroid': 1, 'distance': 162.15116404145854}}"
      ]
     },
     "execution_count": 432,
     "metadata": {},
     "output_type": "execute_result"
    }
   ],
   "source": [
    "mest"
   ]
  },
  {
   "cell_type": "code",
   "execution_count": 433,
   "metadata": {},
   "outputs": [
    {
     "name": "stdout",
     "output_type": "stream",
     "text": [
      "[array([60, 62, 63, 'Ivysaur'], dtype=object), array([80, 82, 83, 'Venusaur'], dtype=object), array([80, 100, 123, 'Mega Venusaur'], dtype=object), array([39, 52, 43, 'Charmander'], dtype=object), array([58, 64, 58, 'Charmeleon'], dtype=object), array([78, 84, 78, 'Charizard'], dtype=object), array([78, 130, 111, 'Mega Charizard X'], dtype=object), array([78, 104, 78, 'Mega Charizard Y'], dtype=object), array([44, 48, 65, 'Squirtle'], dtype=object), array([59, 63, 80, 'Wartortle'], dtype=object)]\n"
     ]
    }
   ],
   "source": [
    "#for i in range(0,1):\n",
    "points = [testdata.values[j] for j in range(len(testdata))]\n",
    "print(points)"
   ]
  },
  {
   "cell_type": "code",
   "execution_count": 259,
   "metadata": {},
   "outputs": [
    {
     "name": "stdout",
     "output_type": "stream",
     "text": [
      "84.53993139339539\n"
     ]
    }
   ],
   "source": [
    "print(math.sqrt(7147))"
   ]
  },
  {
   "cell_type": "code",
   "execution_count": 137,
   "metadata": {},
   "outputs": [],
   "source": [
    "testar = np.array([11, 112, 173])"
   ]
  },
  {
   "cell_type": "code",
   "execution_count": 179,
   "metadata": {},
   "outputs": [
    {
     "data": {
      "text/plain": [
       "218.55891654197043"
      ]
     },
     "execution_count": 179,
     "metadata": {},
     "output_type": "execute_result"
    }
   ],
   "source": [
    "dista = calc_dist(ceno,testar)\n",
    "np.min(dista)"
   ]
  },
  {
   "cell_type": "code",
   "execution_count": 147,
   "metadata": {},
   "outputs": [
    {
     "data": {
      "text/plain": [
       "96800"
      ]
     },
     "execution_count": 147,
     "metadata": {},
     "output_type": "execute_result"
    }
   ],
   "source": [
    "(ceno[0][0] - testar[0])**2 + (ceno[0][0] - testar[0])**2"
   ]
  },
  {
   "cell_type": "code",
   "execution_count": 150,
   "metadata": {},
   "outputs": [
    {
     "data": {
      "text/plain": [
       "array([231,  85, 150])"
      ]
     },
     "execution_count": 150,
     "metadata": {},
     "output_type": "execute_result"
    }
   ],
   "source": [
    "ceno[0]"
   ]
  },
  {
   "cell_type": "code",
   "execution_count": 152,
   "metadata": {},
   "outputs": [
    {
     "data": {
      "text/plain": [
       "11"
      ]
     },
     "execution_count": 152,
     "metadata": {},
     "output_type": "execute_result"
    }
   ],
   "source": [
    "testar[0]"
   ]
  },
  {
   "cell_type": "code",
   "execution_count": null,
   "metadata": {},
   "outputs": [],
   "source": []
  }
 ],
 "metadata": {
  "kernelspec": {
   "display_name": "Python [conda env:env_deep]",
   "language": "python",
   "name": "conda-env-env_deep-py"
  },
  "language_info": {
   "codemirror_mode": {
    "name": "ipython",
    "version": 3
   },
   "file_extension": ".py",
   "mimetype": "text/x-python",
   "name": "python",
   "nbconvert_exporter": "python",
   "pygments_lexer": "ipython3",
   "version": "3.6.8"
  }
 },
 "nbformat": 4,
 "nbformat_minor": 2
}

{
 "cells": [
  {
   "cell_type": "code",
   "execution_count": 111,
   "metadata": {},
   "outputs": [],
   "source": [
    "import numpy as np\n",
    "import pandas as pd\n",
    "import math\n",
    "import random\n",
    "\n",
    "random.seed(47)"
   ]
  },
  {
   "cell_type": "code",
   "execution_count": 2,
   "metadata": {},
   "outputs": [],
   "source": [
    "# load data\n",
    "combats = pd.read_csv('./Python/Data/combats.csv')\n",
    "pokemons = pd.read_csv('./Python/Data/pokemon.csv')\n",
    "tests = pd.read_csv('./Python/Data/tests.csv')"
   ]
  },
  {
   "cell_type": "code",
   "execution_count": 3,
   "metadata": {},
   "outputs": [
    {
     "data": {
      "text/html": [
       "<div>\n",
       "<style scoped>\n",
       "    .dataframe tbody tr th:only-of-type {\n",
       "        vertical-align: middle;\n",
       "    }\n",
       "\n",
       "    .dataframe tbody tr th {\n",
       "        vertical-align: top;\n",
       "    }\n",
       "\n",
       "    .dataframe thead th {\n",
       "        text-align: right;\n",
       "    }\n",
       "</style>\n",
       "<table border=\"1\" class=\"dataframe\">\n",
       "  <thead>\n",
       "    <tr style=\"text-align: right;\">\n",
       "      <th></th>\n",
       "      <th>#</th>\n",
       "      <th>Name</th>\n",
       "      <th>Type 1</th>\n",
       "      <th>Type 2</th>\n",
       "      <th>HP</th>\n",
       "      <th>Attack</th>\n",
       "      <th>Defense</th>\n",
       "      <th>Sp. Atk</th>\n",
       "      <th>Sp. Def</th>\n",
       "      <th>Speed</th>\n",
       "      <th>Generation</th>\n",
       "      <th>Legendary</th>\n",
       "    </tr>\n",
       "  </thead>\n",
       "  <tbody>\n",
       "    <tr>\n",
       "      <th>0</th>\n",
       "      <td>1</td>\n",
       "      <td>Bulbasaur</td>\n",
       "      <td>Grass</td>\n",
       "      <td>Poison</td>\n",
       "      <td>45</td>\n",
       "      <td>49</td>\n",
       "      <td>49</td>\n",
       "      <td>65</td>\n",
       "      <td>65</td>\n",
       "      <td>45</td>\n",
       "      <td>1</td>\n",
       "      <td>False</td>\n",
       "    </tr>\n",
       "    <tr>\n",
       "      <th>1</th>\n",
       "      <td>2</td>\n",
       "      <td>Ivysaur</td>\n",
       "      <td>Grass</td>\n",
       "      <td>Poison</td>\n",
       "      <td>60</td>\n",
       "      <td>62</td>\n",
       "      <td>63</td>\n",
       "      <td>80</td>\n",
       "      <td>80</td>\n",
       "      <td>60</td>\n",
       "      <td>1</td>\n",
       "      <td>False</td>\n",
       "    </tr>\n",
       "    <tr>\n",
       "      <th>2</th>\n",
       "      <td>3</td>\n",
       "      <td>Venusaur</td>\n",
       "      <td>Grass</td>\n",
       "      <td>Poison</td>\n",
       "      <td>80</td>\n",
       "      <td>82</td>\n",
       "      <td>83</td>\n",
       "      <td>100</td>\n",
       "      <td>100</td>\n",
       "      <td>80</td>\n",
       "      <td>1</td>\n",
       "      <td>False</td>\n",
       "    </tr>\n",
       "    <tr>\n",
       "      <th>3</th>\n",
       "      <td>4</td>\n",
       "      <td>Mega Venusaur</td>\n",
       "      <td>Grass</td>\n",
       "      <td>Poison</td>\n",
       "      <td>80</td>\n",
       "      <td>100</td>\n",
       "      <td>123</td>\n",
       "      <td>122</td>\n",
       "      <td>120</td>\n",
       "      <td>80</td>\n",
       "      <td>1</td>\n",
       "      <td>False</td>\n",
       "    </tr>\n",
       "    <tr>\n",
       "      <th>4</th>\n",
       "      <td>5</td>\n",
       "      <td>Charmander</td>\n",
       "      <td>Fire</td>\n",
       "      <td>NaN</td>\n",
       "      <td>39</td>\n",
       "      <td>52</td>\n",
       "      <td>43</td>\n",
       "      <td>60</td>\n",
       "      <td>50</td>\n",
       "      <td>65</td>\n",
       "      <td>1</td>\n",
       "      <td>False</td>\n",
       "    </tr>\n",
       "  </tbody>\n",
       "</table>\n",
       "</div>"
      ],
      "text/plain": [
       "   #           Name Type 1  Type 2  HP  Attack  Defense  Sp. Atk  Sp. Def  \\\n",
       "0  1      Bulbasaur  Grass  Poison  45      49       49       65       65   \n",
       "1  2        Ivysaur  Grass  Poison  60      62       63       80       80   \n",
       "2  3       Venusaur  Grass  Poison  80      82       83      100      100   \n",
       "3  4  Mega Venusaur  Grass  Poison  80     100      123      122      120   \n",
       "4  5     Charmander   Fire     NaN  39      52       43       60       50   \n",
       "\n",
       "   Speed  Generation  Legendary  \n",
       "0     45           1      False  \n",
       "1     60           1      False  \n",
       "2     80           1      False  \n",
       "3     80           1      False  \n",
       "4     65           1      False  "
      ]
     },
     "execution_count": 3,
     "metadata": {},
     "output_type": "execute_result"
    }
   ],
   "source": [
    "pokemons.head()"
   ]
  },
  {
   "cell_type": "code",
   "execution_count": 89,
   "metadata": {},
   "outputs": [
    {
     "name": "stdout",
     "output_type": "stream",
     "text": [
      "attack range: 1 - 255\n",
      "attack range: 5 - 190\n",
      "attack range: 5 - 230\n"
     ]
    }
   ],
   "source": [
    "print(\"attack range: %i - %i\" % (pokemons.HP.min(), pokemons.HP.max()))\n",
    "print(\"attack range: %i - %i\" % (pokemons.Attack.min(), pokemons.Attack.max()))\n",
    "print(\"attack range: %i - %i\" % (pokemons.Defense.min(), pokemons.Defense.max()))"
   ]
  },
  {
   "cell_type": "code",
   "execution_count": 71,
   "metadata": {},
   "outputs": [],
   "source": [
    "# put range in vars\n",
    "Hp = [pokemons.HP.min(), pokemons.HP.max()]\n",
    "Atk = [pokemons.Attack.min(), pokemons.Attack.max()]\n",
    "Def = [pokemons.Defense.min(), pokemons.Defense.max()]"
   ]
  },
  {
   "cell_type": "code",
   "execution_count": 6,
   "metadata": {},
   "outputs": [
    {
     "data": {
      "text/plain": [
       "array(['Grass', 'Fire', 'Water', 'Bug', 'Normal', 'Poison', 'Electric',\n",
       "       'Ground', 'Fairy', 'Fighting', 'Psychic', 'Rock', 'Ghost', 'Ice',\n",
       "       'Dragon', 'Dark', 'Steel', 'Flying'], dtype=object)"
      ]
     },
     "execution_count": 6,
     "metadata": {},
     "output_type": "execute_result"
    }
   ],
   "source": [
    "pokemons['Type 1'].unique()"
   ]
  },
  {
   "cell_type": "code",
   "execution_count": 7,
   "metadata": {},
   "outputs": [
    {
     "data": {
      "text/plain": [
       "19"
      ]
     },
     "execution_count": 7,
     "metadata": {},
     "output_type": "execute_result"
    }
   ],
   "source": [
    "pokemons['Type 2'].unique().size"
   ]
  },
  {
   "cell_type": "code",
   "execution_count": 226,
   "metadata": {},
   "outputs": [],
   "source": [
    "testdata = pokemons.loc[1:10,['HP','Attack','Defense','Name']]"
   ]
  },
  {
   "cell_type": "code",
   "execution_count": 227,
   "metadata": {},
   "outputs": [
    {
     "data": {
      "text/plain": [
       "array([[60, 62, 63, 'Ivysaur'],\n",
       "       [80, 82, 83, 'Venusaur'],\n",
       "       [80, 100, 123, 'Mega Venusaur'],\n",
       "       [39, 52, 43, 'Charmander'],\n",
       "       [58, 64, 58, 'Charmeleon'],\n",
       "       [78, 84, 78, 'Charizard'],\n",
       "       [78, 130, 111, 'Mega Charizard X'],\n",
       "       [78, 104, 78, 'Mega Charizard Y'],\n",
       "       [44, 48, 65, 'Squirtle'],\n",
       "       [59, 63, 80, 'Wartortle']], dtype=object)"
      ]
     },
     "execution_count": 227,
     "metadata": {},
     "output_type": "execute_result"
    }
   ],
   "source": [
    "testdata.values"
   ]
  },
  {
   "cell_type": "markdown",
   "metadata": {},
   "source": [
    "### Steps to take\n",
    "1) Set amount of K clusters  \n",
    "2) Assign each data point to closest centroid  \n",
    "3) Recompute the cluster centroids(mean of all data points in cluster)  \n",
    "4) back to step 2 and repeat"
   ]
  },
  {
   "cell_type": "code",
   "execution_count": 257,
   "metadata": {},
   "outputs": [],
   "source": [
    "def KMeans(points, k = 3, max_iter = 10):\n",
    "    # generate k random centroids\n",
    "    centroids = centroid_gen(k)\n",
    "    centroids = dict(centroids)\n",
    "    print(centroids)\n",
    "    cluster = {}\n",
    "    \n",
    "    iteration = 0\n",
    "    while iteration < max_iter: #cen_diff != 0:\n",
    "        for i in range(0,len(points)):\n",
    "            distances = calc_dist(centroids, points[i])\n",
    "            cluster[i] = np.min(distances)\n",
    "            print(distances)\n",
    "            print(points[i])\n",
    "            print(centroids[0])\n",
    "        iteration += 1\n",
    "        print('\\b')\n",
    "    return cluster\n",
    "#         while no change\n",
    "#             for i in points:\n",
    "            # assign data to closest cluster\n",
    "        # compute distance and assign to closest cluster\n",
    "            "
   ]
  },
  {
   "cell_type": "code",
   "execution_count": 112,
   "metadata": {},
   "outputs": [],
   "source": [
    "# generate k random centroids\n",
    "def centroid_gen(k):\n",
    "    centroids = {}\n",
    "    for c in range(0,k):\n",
    "        rand_hp = random.randint(Hp[0],Hp[1])\n",
    "        rand_atk = random.randint(Atk[0],Atk[1])\n",
    "        rand_def = random.randint(Def[0],Def[1])\n",
    "        centroids[c] = np.array([rand_hp, rand_atk, rand_def])\n",
    "    return centroids"
   ]
  },
  {
   "cell_type": "code",
   "execution_count": 258,
   "metadata": {},
   "outputs": [
    {
     "name": "stdout",
     "output_type": "stream",
     "text": [
      "{0: array([ 45,  43, 144]), 1: array([ 87, 167, 226])}\n",
      "[149.093930124603, 340.9413439288348]\n",
      "[60 62 63 'Ivysaur']\n",
      "[ 45  43 144]\n",
      "[142.08800090085018, 290.5873362691499]\n",
      "[80 82 83 'Venusaur']\n",
      "[ 45  43 144]\n",
      "[166.80827317612278, 251.61279776672728]\n",
      "[80 100 123 'Mega Venusaur']\n",
      "[ 45  43 144]\n",
      "[172.84675293449976, 386.2434465463459]\n",
      "[39 52 43 'Charmander']\n",
      "[ 45  43 144]\n",
      "[150.93707298076242, 345.36068102782053]\n",
      "[58 64 58 'Charmeleon']\n",
      "[ 45  43 144]\n",
      "[141.92251407017844, 294.74395668104887]\n",
      "[78 84 78 'Charizard']\n",
      "[ 45  43 144]\n",
      "[178.12635964393365, 243.46868381785777]\n",
      "[78 130 111 'Mega Charizard X']\n",
      "[ 45  43 144]\n",
      "[148.80188170853216, 280.9875442079239]\n",
      "[78 104 78 'Mega Charizard Y']\n",
      "[ 45  43 144]\n",
      "[162.40997506310995, 366.43826219432924]\n",
      "[44 48 65 'Squirtle']\n",
      "[ 45  43 144]\n",
      "[147.14618581533128, 327.4629750063356]\n",
      "[59 63 80 'Wartortle']\n",
      "[ 45  43 144]\n",
      "\b\n",
      "[149.093930124603, 340.9413439288348]\n",
      "[60 62 63 'Ivysaur']\n",
      "[ 45  43 144]\n",
      "[142.08800090085018, 290.5873362691499]\n",
      "[80 82 83 'Venusaur']\n",
      "[ 45  43 144]\n",
      "[166.80827317612278, 251.61279776672728]\n",
      "[80 100 123 'Mega Venusaur']\n",
      "[ 45  43 144]\n",
      "[172.84675293449976, 386.2434465463459]\n",
      "[39 52 43 'Charmander']\n",
      "[ 45  43 144]\n",
      "[150.93707298076242, 345.36068102782053]\n",
      "[58 64 58 'Charmeleon']\n",
      "[ 45  43 144]\n",
      "[141.92251407017844, 294.74395668104887]\n",
      "[78 84 78 'Charizard']\n",
      "[ 45  43 144]\n",
      "[178.12635964393365, 243.46868381785777]\n",
      "[78 130 111 'Mega Charizard X']\n",
      "[ 45  43 144]\n",
      "[148.80188170853216, 280.9875442079239]\n",
      "[78 104 78 'Mega Charizard Y']\n",
      "[ 45  43 144]\n",
      "[162.40997506310995, 366.43826219432924]\n",
      "[44 48 65 'Squirtle']\n",
      "[ 45  43 144]\n",
      "[147.14618581533128, 327.4629750063356]\n",
      "[59 63 80 'Wartortle']\n",
      "[ 45  43 144]\n",
      "\b\n",
      "[149.093930124603, 340.9413439288348]\n",
      "[60 62 63 'Ivysaur']\n",
      "[ 45  43 144]\n",
      "[142.08800090085018, 290.5873362691499]\n",
      "[80 82 83 'Venusaur']\n",
      "[ 45  43 144]\n",
      "[166.80827317612278, 251.61279776672728]\n",
      "[80 100 123 'Mega Venusaur']\n",
      "[ 45  43 144]\n",
      "[172.84675293449976, 386.2434465463459]\n",
      "[39 52 43 'Charmander']\n",
      "[ 45  43 144]\n",
      "[150.93707298076242, 345.36068102782053]\n",
      "[58 64 58 'Charmeleon']\n",
      "[ 45  43 144]\n",
      "[141.92251407017844, 294.74395668104887]\n",
      "[78 84 78 'Charizard']\n",
      "[ 45  43 144]\n",
      "[178.12635964393365, 243.46868381785777]\n",
      "[78 130 111 'Mega Charizard X']\n",
      "[ 45  43 144]\n",
      "[148.80188170853216, 280.9875442079239]\n",
      "[78 104 78 'Mega Charizard Y']\n",
      "[ 45  43 144]\n",
      "[162.40997506310995, 366.43826219432924]\n",
      "[44 48 65 'Squirtle']\n",
      "[ 45  43 144]\n",
      "[147.14618581533128, 327.4629750063356]\n",
      "[59 63 80 'Wartortle']\n",
      "[ 45  43 144]\n",
      "\b\n",
      "[149.093930124603, 340.9413439288348]\n",
      "[60 62 63 'Ivysaur']\n",
      "[ 45  43 144]\n",
      "[142.08800090085018, 290.5873362691499]\n",
      "[80 82 83 'Venusaur']\n",
      "[ 45  43 144]\n",
      "[166.80827317612278, 251.61279776672728]\n",
      "[80 100 123 'Mega Venusaur']\n",
      "[ 45  43 144]\n",
      "[172.84675293449976, 386.2434465463459]\n",
      "[39 52 43 'Charmander']\n",
      "[ 45  43 144]\n",
      "[150.93707298076242, 345.36068102782053]\n",
      "[58 64 58 'Charmeleon']\n",
      "[ 45  43 144]\n",
      "[141.92251407017844, 294.74395668104887]\n",
      "[78 84 78 'Charizard']\n",
      "[ 45  43 144]\n",
      "[178.12635964393365, 243.46868381785777]\n",
      "[78 130 111 'Mega Charizard X']\n",
      "[ 45  43 144]\n",
      "[148.80188170853216, 280.9875442079239]\n",
      "[78 104 78 'Mega Charizard Y']\n",
      "[ 45  43 144]\n",
      "[162.40997506310995, 366.43826219432924]\n",
      "[44 48 65 'Squirtle']\n",
      "[ 45  43 144]\n",
      "[147.14618581533128, 327.4629750063356]\n",
      "[59 63 80 'Wartortle']\n",
      "[ 45  43 144]\n",
      "\b\n",
      "[149.093930124603, 340.9413439288348]\n",
      "[60 62 63 'Ivysaur']\n",
      "[ 45  43 144]\n",
      "[142.08800090085018, 290.5873362691499]\n",
      "[80 82 83 'Venusaur']\n",
      "[ 45  43 144]\n",
      "[166.80827317612278, 251.61279776672728]\n",
      "[80 100 123 'Mega Venusaur']\n",
      "[ 45  43 144]\n",
      "[172.84675293449976, 386.2434465463459]\n",
      "[39 52 43 'Charmander']\n",
      "[ 45  43 144]\n",
      "[150.93707298076242, 345.36068102782053]\n",
      "[58 64 58 'Charmeleon']\n",
      "[ 45  43 144]\n",
      "[141.92251407017844, 294.74395668104887]\n",
      "[78 84 78 'Charizard']\n",
      "[ 45  43 144]\n",
      "[178.12635964393365, 243.46868381785777]\n",
      "[78 130 111 'Mega Charizard X']\n",
      "[ 45  43 144]\n",
      "[148.80188170853216, 280.9875442079239]\n",
      "[78 104 78 'Mega Charizard Y']\n",
      "[ 45  43 144]\n",
      "[162.40997506310995, 366.43826219432924]\n",
      "[44 48 65 'Squirtle']\n",
      "[ 45  43 144]\n",
      "[147.14618581533128, 327.4629750063356]\n",
      "[59 63 80 'Wartortle']\n",
      "[ 45  43 144]\n",
      "\b\n"
     ]
    }
   ],
   "source": [
    "mest = KMeans(testdata.values , 2, 5)"
   ]
  },
  {
   "cell_type": "code",
   "execution_count": 251,
   "metadata": {},
   "outputs": [
    {
     "data": {
      "text/plain": [
       "{0: 89.86656775464388,\n",
       " 1: 138.26062346163494,\n",
       " 2: 198.48425630260957,\n",
       " 3: 67.86015030929418,\n",
       " 4: 86.82741502543998,\n",
       " 5: 134.08579343092242,\n",
       " 6: 216.30533973991487,\n",
       " 7: 156.00961508830153,\n",
       " 8: 78.23042886243178,\n",
       " 9: 105.8536725862641}"
      ]
     },
     "execution_count": 251,
     "metadata": {},
     "output_type": "execute_result"
    }
   ],
   "source": [
    "mest"
   ]
  },
  {
   "cell_type": "code",
   "execution_count": 256,
   "metadata": {},
   "outputs": [
    {
     "data": {
      "text/plain": [
       "{0: 235.5610324310878,\n",
       " 1: 177.11295830627412,\n",
       " 2: 132.89469515371937,\n",
       " 3: 251.9206224190469,\n",
       " 4: 240.58678267934837,\n",
       " 5: 182.10436568078208,\n",
       " 6: 125.2078272313676,\n",
       " 7: 166.73931749890306,\n",
       " 8: 247.1214276423637,\n",
       " 9: 220.5810508633958}"
      ]
     },
     "execution_count": 256,
     "metadata": {},
     "output_type": "execute_result"
    }
   ],
   "source": [
    "mest"
   ]
  },
  {
   "cell_type": "code",
   "execution_count": 259,
   "metadata": {},
   "outputs": [
    {
     "name": "stdout",
     "output_type": "stream",
     "text": [
      "84.53993139339539\n"
     ]
    }
   ],
   "source": [
    "print(math.sqrt(7147))"
   ]
  },
  {
   "cell_type": "code",
   "execution_count": 137,
   "metadata": {},
   "outputs": [],
   "source": [
    "testar = np.array([11, 112, 173])"
   ]
  },
  {
   "cell_type": "code",
   "execution_count": 178,
   "metadata": {},
   "outputs": [],
   "source": [
    "# calculate Euclidean distance\n",
    "def calc_dist(cen, p):\n",
    "    distances = []\n",
    "    for i in cen:\n",
    "        distance = math.sqrt( sum((cen[i]-p[0])**2 + (cen[i]-p[1])**2 + (cen[i]-p[2])**2))\n",
    "        distances.append(distance)\n",
    "    return distances"
   ]
  },
  {
   "cell_type": "code",
   "execution_count": 179,
   "metadata": {},
   "outputs": [
    {
     "data": {
      "text/plain": [
       "218.55891654197043"
      ]
     },
     "execution_count": 179,
     "metadata": {},
     "output_type": "execute_result"
    }
   ],
   "source": [
    "dista = calc_dist(ceno,testar)\n",
    "np.min(dista)"
   ]
  },
  {
   "cell_type": "code",
   "execution_count": 147,
   "metadata": {},
   "outputs": [
    {
     "data": {
      "text/plain": [
       "96800"
      ]
     },
     "execution_count": 147,
     "metadata": {},
     "output_type": "execute_result"
    }
   ],
   "source": [
    "(ceno[0][0] - testar[0])**2 + (ceno[0][0] - testar[0])**2"
   ]
  },
  {
   "cell_type": "code",
   "execution_count": 150,
   "metadata": {},
   "outputs": [
    {
     "data": {
      "text/plain": [
       "array([231,  85, 150])"
      ]
     },
     "execution_count": 150,
     "metadata": {},
     "output_type": "execute_result"
    }
   ],
   "source": [
    "ceno[0]"
   ]
  },
  {
   "cell_type": "code",
   "execution_count": 152,
   "metadata": {},
   "outputs": [
    {
     "data": {
      "text/plain": [
       "11"
      ]
     },
     "execution_count": 152,
     "metadata": {},
     "output_type": "execute_result"
    }
   ],
   "source": [
    "testar[0]"
   ]
  },
  {
   "cell_type": "code",
   "execution_count": null,
   "metadata": {},
   "outputs": [],
   "source": []
  }
 ],
 "metadata": {
  "kernelspec": {
   "display_name": "Python [conda env:env_deep]",
   "language": "python",
   "name": "conda-env-env_deep-py"
  },
  "language_info": {
   "codemirror_mode": {
    "name": "ipython",
    "version": 3
   },
   "file_extension": ".py",
   "mimetype": "text/x-python",
   "name": "python",
   "nbconvert_exporter": "python",
   "pygments_lexer": "ipython3",
   "version": "3.6.8"
  }
 },
 "nbformat": 4,
 "nbformat_minor": 2
}
